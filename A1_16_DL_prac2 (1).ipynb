{
 "cells": [
  {
   "cell_type": "markdown",
   "metadata": {
    "id": "nsoG8mwWk5BS"
   },
   "source": [
    "\n",
    "## kruti mahalle\n",
    "## A1_16"
   ]
  },
  {
   "cell_type": "markdown",
   "metadata": {
    "id": "ZIezsa_ok8HS"
   },
   "source": [
    "## Implement the perceptron learning algorithm to classify 3-dimensional points into two classes based on a given dataset. Update weights iteratively until convergence."
   ]
  },
  {
   "cell_type": "markdown",
   "metadata": {
    "id": "YwbMcJhMu5yj"
   },
   "source": [
    "### 3 Dimensional Points:\n",
    "### (PO(-1,-1,-1), P1(-1,-1,1), P2(-1,1,-1), P3(-1,1,1),P4(1,-1,-1), P5(1,-1,1), P6(1,1,-1), P7(1,1,1))\n",
    "\n",
    "### Classes:\n",
    "### C1 = (P7 (1,1,1))  \n",
    "###C2 = (PO(-1,-1,-1), P1(-1,-1,1), P2(-1,1,-1), P3(-1,1,1), P4(1,-1,-1), P5(1,-1,1), P6(1,1,-1))"
   ]
  },
  {
   "cell_type": "code",
   "execution_count": 35,
   "metadata": {
    "executionInfo": {
     "elapsed": 17,
     "status": "ok",
     "timestamp": 1740231799011,
     "user": {
      "displayName": "A_51_Prathmesh Urkude",
      "userId": "08303641571132646920"
     },
     "user_tz": -330
    },
    "id": "I7tuwVsjvaxv"
   },
   "outputs": [],
   "source": [
    "import numpy as np"
   ]
  },
  {
   "cell_type": "code",
   "execution_count": 36,
   "metadata": {
    "executionInfo": {
     "elapsed": 47,
     "status": "ok",
     "timestamp": 1740231799060,
     "user": {
      "displayName": "A_51_Prathmesh Urkude",
      "userId": "08303641571132646920"
     },
     "user_tz": -330
    },
    "id": "ybA5uIw3vcR1"
   },
   "outputs": [],
   "source": [
    "X = np.array([[-1, -1, -1], [-1, -1, 1], [-1, 1, -1], [-1, 1, 1], [1, -1, -1], [1, -1, 1], [1, 1, -1], [1, 1, 1]])\n",
    "y = np.array([0, 0, 0, 0, 0, 0, 0, 1])"
   ]
  },
  {
   "cell_type": "code",
   "execution_count": 37,
   "metadata": {
    "colab": {
     "base_uri": "https://localhost:8080/"
    },
    "executionInfo": {
     "elapsed": 8,
     "status": "ok",
     "timestamp": 1740231799061,
     "user": {
      "displayName": "A_51_Prathmesh Urkude",
      "userId": "08303641571132646920"
     },
     "user_tz": -330
    },
    "id": "qkTpSNFpvg0Z",
    "outputId": "36fa2681-6f8a-4d24-f172-98a036a008b2"
   },
   "outputs": [
    {
     "name": "stdout",
     "output_type": "stream",
     "text": [
      "weight: [0. 0. 0.]\n",
      "bias: 0\n"
     ]
    }
   ],
   "source": [
    "w = np.zeros(3)\n",
    "b = 0\n",
    "print(f'weight: {w}')\n",
    "print(f'bias: {b}')"
   ]
  },
  {
   "cell_type": "code",
   "execution_count": 38,
   "metadata": {
    "executionInfo": {
     "elapsed": 1,
     "status": "ok",
     "timestamp": 1740231799063,
     "user": {
      "displayName": "A_51_Prathmesh Urkude",
      "userId": "08303641571132646920"
     },
     "user_tz": -330
    },
    "id": "gIezrn7uvljF"
   },
   "outputs": [],
   "source": [
    "learning_rate = 0.01\n",
    "epochs = 100"
   ]
  },
  {
   "cell_type": "code",
   "execution_count": 39,
   "metadata": {
    "executionInfo": {
     "elapsed": 1,
     "status": "ok",
     "timestamp": 1740231799071,
     "user": {
      "displayName": "A_51_Prathmesh Urkude",
      "userId": "08303641571132646920"
     },
     "user_tz": -330
    },
    "id": "e98bglNavlTm"
   },
   "outputs": [],
   "source": [
    "def step(x):\n",
    "    return 1 if x >= 0 else 0"
   ]
  },
  {
   "cell_type": "code",
   "execution_count": 40,
   "metadata": {
    "colab": {
     "base_uri": "https://localhost:8080/"
    },
    "executionInfo": {
     "elapsed": 3,
     "status": "ok",
     "timestamp": 1740231799075,
     "user": {
      "displayName": "A_51_Prathmesh Urkude",
      "userId": "08303641571132646920"
     },
     "user_tz": -330
    },
    "id": "69VLv9ji_hzE",
    "outputId": "dd56a5f8-cc9f-4b75-9fda-7b70a22aa76f"
   },
   "outputs": [
    {
     "name": "stdout",
     "output_type": "stream",
     "text": [
      "0: Learned weight: [0.01 0.01 0.01]\n",
      "0: Learned bias: -0.03\n",
      "10: Learned weight: [0.01 0.01 0.01]\n",
      "10: Learned bias: -0.03\n",
      "20: Learned weight: [0.01 0.01 0.01]\n",
      "20: Learned bias: -0.03\n",
      "30: Learned weight: [0.01 0.01 0.01]\n",
      "30: Learned bias: -0.03\n",
      "40: Learned weight: [0.01 0.01 0.01]\n",
      "40: Learned bias: -0.03\n",
      "50: Learned weight: [0.01 0.01 0.01]\n",
      "50: Learned bias: -0.03\n",
      "60: Learned weight: [0.01 0.01 0.01]\n",
      "60: Learned bias: -0.03\n",
      "70: Learned weight: [0.01 0.01 0.01]\n",
      "70: Learned bias: -0.03\n",
      "80: Learned weight: [0.01 0.01 0.01]\n",
      "80: Learned bias: -0.03\n",
      "90: Learned weight: [0.01 0.01 0.01]\n",
      "90: Learned bias: -0.03\n",
      "99: Learned weight: [0.01 0.01 0.01]\n",
      "99: Learned bias: -0.03\n"
     ]
    }
   ],
   "source": [
    "for epoch in range(epochs):\n",
    "    for i in range(len(X)):\n",
    "        weighted_sum = np.dot(X[i], w) + b\n",
    "        output = step(weighted_sum)\n",
    "        if output != y[i]:\n",
    "            w = w + learning_rate * (y[i] - output) * X[i]\n",
    "            b = b + learning_rate * (y[i] - output)\n",
    "\n",
    "    if(epoch % 10 == 0):\n",
    "        print(f'{epoch}: Learned weight: {w}')\n",
    "        print(f'{epoch}: Learned bias: {b}')\n",
    "\n",
    "print(f'{epoch}: Learned weight: {w}')\n",
    "print(f'{epoch}: Learned bias: {b}')"
   ]
  },
  {
   "cell_type": "code",
   "execution_count": 41,
   "metadata": {
    "colab": {
     "base_uri": "https://localhost:8080/"
    },
    "executionInfo": {
     "elapsed": 8,
     "status": "ok",
     "timestamp": 1740231799084,
     "user": {
      "displayName": "A_51_Prathmesh Urkude",
      "userId": "08303641571132646920"
     },
     "user_tz": -330
    },
    "id": "1uA_bcq_wFP-",
    "outputId": "73d1f2f8-1fa4-4ae0-c988-e79fca7a7dbe"
   },
   "outputs": [
    {
     "name": "stdout",
     "output_type": "stream",
     "text": [
      "Prediction for test point: 1\n"
     ]
    }
   ],
   "source": [
    "test_point = np.array([1, 1, 1])\n",
    "prediction = step(np.dot(test_point, w) + b)\n",
    "print(\"Prediction for test point:\", prediction)"
   ]
  },
  {
   "cell_type": "code",
   "execution_count": 41,
   "metadata": {
    "executionInfo": {
     "elapsed": 1,
     "status": "ok",
     "timestamp": 1740231799095,
     "user": {
      "displayName": "A_51_Prathmesh Urkude",
      "userId": "08303641571132646920"
     },
     "user_tz": -330
    },
    "id": "jXG1_fKfyDYW"
   },
   "outputs": [],
   "source": []
  },
  {
   "cell_type": "markdown",
   "metadata": {
    "id": "MD_LArK_yD7K"
   },
   "source": [
    "## Develop a Python program to determine the number of linearly separable binary classification problems from a given dataset of 3-dimensional points. Validate using multiple class combinations."
   ]
  },
  {
   "cell_type": "markdown",
   "metadata": {
    "id": "bGn3KLu2_l7K"
   },
   "source": [
    "### Points = (PO(-1,-1,-1), P1(-1,-1,1), P2(-1,1,-1), P3(-1,1,1),P4(1,-1,-1), P5(1,-1,1), P6(1,1,-1), P7(1,1,1))"
   ]
  },
  {
   "cell_type": "code",
   "execution_count": 73,
   "metadata": {
    "executionInfo": {
     "elapsed": 3,
     "status": "ok",
     "timestamp": 1740233439024,
     "user": {
      "displayName": "A_51_Prathmesh Urkude",
      "userId": "08303641571132646920"
     },
     "user_tz": -330
    },
    "id": "k2FQnZ9y_liV"
   },
   "outputs": [],
   "source": [
    "import numpy as np\n",
    "from itertools import combinations"
   ]
  },
  {
   "cell_type": "code",
   "execution_count": 74,
   "metadata": {
    "executionInfo": {
     "elapsed": 2,
     "status": "ok",
     "timestamp": 1740233446041,
     "user": {
      "displayName": "A_51_Prathmesh Urkude",
      "userId": "08303641571132646920"
     },
     "user_tz": -330
    },
    "id": "FC2HWkCq_lfh"
   },
   "outputs": [],
   "source": [
    "def step(x):\n",
    "    return 1 if x >= 0 else 0"
   ]
  },
  {
   "cell_type": "code",
   "execution_count": 75,
   "metadata": {
    "executionInfo": {
     "elapsed": 3,
     "status": "ok",
     "timestamp": 1740233452956,
     "user": {
      "displayName": "A_51_Prathmesh Urkude",
      "userId": "08303641571132646920"
     },
     "user_tz": -330
    },
    "id": "kDRbx2Ig_lc3"
   },
   "outputs": [],
   "source": [
    "def is_linearly_separable(X, y, w, b):\n",
    "    for i in range(len(X)):\n",
    "        if step(np.dot(X[i], w) + b) != y[i]:\n",
    "            return False\n",
    "    return True"
   ]
  },
  {
   "cell_type": "code",
   "execution_count": 77,
   "metadata": {
    "executionInfo": {
     "elapsed": 9,
     "status": "ok",
     "timestamp": 1740233523508,
     "user": {
      "displayName": "A_51_Prathmesh Urkude",
      "userId": "08303641571132646920"
     },
     "user_tz": -330
    },
    "id": "Luxqy-pm_laL"
   },
   "outputs": [],
   "source": [
    "X = np.array([\n",
    "    [-1, -1, -1],\n",
    "    [-1, -1, 1],\n",
    "    [-1, 1, -1],\n",
    "    [-1, 1, 1],\n",
    "    [1, -1, -1],\n",
    "    [1, -1, 1],\n",
    "    [1, 1, -1],\n",
    "    [1, 1, 1],\n",
    "    ])"
   ]
  },
  {
   "cell_type": "code",
   "execution_count": 78,
   "metadata": {
    "executionInfo": {
     "elapsed": 4,
     "status": "ok",
     "timestamp": 1740233533464,
     "user": {
      "displayName": "A_51_Prathmesh Urkude",
      "userId": "08303641571132646920"
     },
     "user_tz": -330
    },
    "id": "UI32moBq_lXl"
   },
   "outputs": [],
   "source": [
    "total_problems = 0\n",
    "linearly_separable_count = 0"
   ]
  },
  {
   "cell_type": "code",
   "execution_count": 79,
   "metadata": {
    "colab": {
     "base_uri": "https://localhost:8080/"
    },
    "executionInfo": {
     "elapsed": 966,
     "status": "ok",
     "timestamp": 1740233844271,
     "user": {
      "displayName": "A_51_Prathmesh Urkude",
      "userId": "08303641571132646920"
     },
     "user_tz": -330
    },
    "id": "8UoUKx6z_lU2",
    "outputId": "f52204ba-6ff0-4294-8593-ddcb6825cf12"
   },
   "outputs": [
    {
     "name": "stdout",
     "output_type": "stream",
     "text": [
      "Total number of binary classification problems: 256\n",
      "Number of linearly separable problems: 104\n"
     ]
    }
   ],
   "source": [
    "for i in range(2**8):\n",
    "  y = []\n",
    "  for j in range(8):\n",
    "    if (i >> j) & 1:\n",
    "        y.append(1)\n",
    "    else:\n",
    "        y.append(0)\n",
    "\n",
    "  y = np.array(y)\n",
    "  total_problems += 1\n",
    "\n",
    "  w = np.zeros(3)\n",
    "  b = 0\n",
    "  learning_rate = 0.1\n",
    "  epochs = 100\n",
    "  for epoch in range(epochs):\n",
    "      for k in range(len(X)):\n",
    "          weighted_sum = np.dot(X[k], w) + b\n",
    "          output = step(weighted_sum)\n",
    "          if output != y[k]:\n",
    "              w = w + learning_rate * (y[k] - output) * X[k]\n",
    "              b = b + learning_rate * (y[k] - output)\n",
    "\n",
    "  if is_linearly_separable(X, y, w, b):\n",
    "      linearly_separable_count +=1\n",
    "\n",
    "print(\"Total number of binary classification problems:\", total_problems)\n",
    "print(\"Number of linearly separable problems:\", linearly_separable_count)"
   ]
  },
  {
   "cell_type": "code",
   "execution_count": null,
   "metadata": {
    "id": "Kz5vJaIB_lHn"
   },
   "outputs": [],
   "source": []
  },
  {
   "cell_type": "code",
   "execution_count": 80,
   "metadata": {
    "executionInfo": {
     "elapsed": 24,
     "status": "ok",
     "timestamp": 1740235706586,
     "user": {
      "displayName": "A_51_Prathmesh Urkude",
      "userId": "08303641571132646920"
     },
     "user_tz": -330
    },
    "id": "PTe-rxHE_lEu"
   },
   "outputs": [],
   "source": [
    "# Validation using multiple class combinations."
   ]
  },
  {
   "cell_type": "code",
   "execution_count": 43,
   "metadata": {
    "executionInfo": {
     "elapsed": 7,
     "status": "ok",
     "timestamp": 1740231814283,
     "user": {
      "displayName": "A_51_Prathmesh Urkude",
      "userId": "08303641571132646920"
     },
     "user_tz": -330
    },
    "id": "DlnHNwF_4vwy"
   },
   "outputs": [],
   "source": [
    "import numpy as np\n",
    "from tensorflow.keras.models import Sequential\n",
    "from tensorflow.keras.layers import Dense\n",
    "from tensorflow.keras.optimizers import SGD"
   ]
  },
  {
   "cell_type": "code",
   "execution_count": 53,
   "metadata": {
    "executionInfo": {
     "elapsed": 16,
     "status": "ok",
     "timestamp": 1740232564996,
     "user": {
      "displayName": "A_51_Prathmesh Urkude",
      "userId": "08303641571132646920"
     },
     "user_tz": -330
    },
    "id": "puzUC3k64vuO"
   },
   "outputs": [],
   "source": [
    "points = np.array([\n",
    "    [-1, -1, -1],\n",
    "    [-1, -1, 1],\n",
    "    [-1, 1, -1],\n",
    "    [-1, 1, 1],\n",
    "    [1, -1, -1],\n",
    "    [1, -1, 1],\n",
    "    [1, 1, -1],\n",
    "    [1, 1, 1],\n",
    "])"
   ]
  },
  {
   "cell_type": "code",
   "execution_count": 69,
   "metadata": {
    "colab": {
     "base_uri": "https://localhost:8080/"
    },
    "executionInfo": {
     "elapsed": 14,
     "status": "ok",
     "timestamp": 1740232822879,
     "user": {
      "displayName": "A_51_Prathmesh Urkude",
      "userId": "08303641571132646920"
     },
     "user_tz": -330
    },
    "id": "tqScuM9o4vrn",
    "outputId": "1bee7d81-d853-4e13-9a45-a8493a3aacaa"
   },
   "outputs": [
    {
     "data": {
      "text/plain": [
       "array([0, 0, 0, 0, 0, 0, 0, 1])"
      ]
     },
     "execution_count": 69,
     "metadata": {},
     "output_type": "execute_result"
    }
   ],
   "source": [
    "labels = np.array([-1, -1, -1, -1, -1, -1, -1, 1])\n",
    "labels = (labels + 1) // 2 # Convert labels to 0 and 1\n",
    "labels"
   ]
  },
  {
   "cell_type": "code",
   "execution_count": 59,
   "metadata": {
    "executionInfo": {
     "elapsed": 45,
     "status": "ok",
     "timestamp": 1740232590768,
     "user": {
      "displayName": "A_51_Prathmesh Urkude",
      "userId": "08303641571132646920"
     },
     "user_tz": -330
    },
    "id": "03_iAECI4vot"
   },
   "outputs": [],
   "source": [
    "model = Sequential([\n",
    "    Dense(4, input_dim=3, activation='relu'),\n",
    "    Dense(1, activation='sigmoid')\n",
    "])"
   ]
  },
  {
   "cell_type": "code",
   "execution_count": 60,
   "metadata": {
    "executionInfo": {
     "elapsed": 19,
     "status": "ok",
     "timestamp": 1740232592100,
     "user": {
      "displayName": "A_51_Prathmesh Urkude",
      "userId": "08303641571132646920"
     },
     "user_tz": -330
    },
    "id": "ovUDtZCC4vl6"
   },
   "outputs": [],
   "source": [
    "model.compile(optimizer=SGD(learning_rate=0.1), loss='binary_crossentropy', metrics=['accuracy'])"
   ]
  },
  {
   "cell_type": "code",
   "execution_count": 70,
   "metadata": {
    "colab": {
     "base_uri": "https://localhost:8080/"
    },
    "executionInfo": {
     "elapsed": 4721,
     "status": "ok",
     "timestamp": 1740232861149,
     "user": {
      "displayName": "A_51_Prathmesh Urkude",
      "userId": "08303641571132646920"
     },
     "user_tz": -330
    },
    "id": "I36uE-Pm4vjP",
    "outputId": "61ffbc36-864c-4dd3-c443-e49219d08cc9"
   },
   "outputs": [
    {
     "data": {
      "text/plain": [
       "<keras.src.callbacks.history.History at 0x7cecbaedb450>"
      ]
     },
     "execution_count": 70,
     "metadata": {},
     "output_type": "execute_result"
    }
   ],
   "source": [
    "model.fit(points, labels, epochs=100, verbose=0, batch_size=len(points))  # Single pass with batch_size"
   ]
  },
  {
   "cell_type": "code",
   "execution_count": 71,
   "metadata": {
    "executionInfo": {
     "elapsed": 86,
     "status": "ok",
     "timestamp": 1740232867578,
     "user": {
      "displayName": "A_51_Prathmesh Urkude",
      "userId": "08303641571132646920"
     },
     "user_tz": -330
    },
    "id": "eyZV_MFByIAy"
   },
   "outputs": [],
   "source": [
    "predictions_points = model.predict(points, verbose=0)\n",
    "predicted_classes_points = (predictions_points > 0.5).astype(int)"
   ]
  },
  {
   "cell_type": "code",
   "execution_count": 72,
   "metadata": {
    "colab": {
     "base_uri": "https://localhost:8080/"
    },
    "executionInfo": {
     "elapsed": 18,
     "status": "ok",
     "timestamp": 1740232870443,
     "user": {
      "displayName": "A_51_Prathmesh Urkude",
      "userId": "08303641571132646920"
     },
     "user_tz": -330
    },
    "id": "q8QdEnxD8DPT",
    "outputId": "1480e858-4e0b-4f74-b3a1-ffd32d2da1b1"
   },
   "outputs": [
    {
     "name": "stdout",
     "output_type": "stream",
     "text": [
      "\n",
      "Classification Results:\n",
      "Point [-1 -1 -1], True Label: 0, Predicted Label: 0\n",
      "Point [-1 -1  1], True Label: 0, Predicted Label: 0\n",
      "Point [-1  1 -1], True Label: 0, Predicted Label: 0\n",
      "Point [-1  1  1], True Label: 0, Predicted Label: 0\n",
      "Point [ 1 -1 -1], True Label: 0, Predicted Label: 0\n",
      "Point [ 1 -1  1], True Label: 0, Predicted Label: 0\n",
      "Point [ 1  1 -1], True Label: 0, Predicted Label: 0\n",
      "Point [1 1 1], True Label: 1, Predicted Label: 1\n"
     ]
    }
   ],
   "source": [
    "print(\"\\nClassification Results:\")\n",
    "for i, point in enumerate(points):\n",
    "    print(f\"Point {point}, True Label: {labels[i]}, Predicted Label: {predicted_classes_points[i][0]}\")"
   ]
  },
  {
   "cell_type": "code",
   "execution_count": null,
   "metadata": {
    "id": "1ZnEvlZq8DDw"
   },
   "outputs": [],
   "source": []
  },
  {
   "cell_type": "markdown",
   "metadata": {
    "id": "A62Ei2bX2S-x"
   },
   "source": [
    "## Analyze the convergence of the perceptron learning algorithm by varying the learning rate and epochs. Evaluate its impact on classification accuracy."
   ]
  },
  {
   "cell_type": "code",
   "execution_count": 84,
   "metadata": {
    "executionInfo": {
     "elapsed": 49,
     "status": "ok",
     "timestamp": 1740236196580,
     "user": {
      "displayName": "A_51_Prathmesh Urkude",
      "userId": "08303641571132646920"
     },
     "user_tz": -330
    },
    "id": "Ekq4K7P0KKh6"
   },
   "outputs": [],
   "source": [
    "# learning rate = 0.1\n",
    "# epochs = 100"
   ]
  },
  {
   "cell_type": "code",
   "execution_count": 97,
   "metadata": {
    "colab": {
     "base_uri": "https://localhost:8080/"
    },
    "executionInfo": {
     "elapsed": 5863,
     "status": "ok",
     "timestamp": 1740236834682,
     "user": {
      "displayName": "A_51_Prathmesh Urkude",
      "userId": "08303641571132646920"
     },
     "user_tz": -330
    },
    "id": "igLtQiud2XtM",
    "outputId": "460d4f93-bfe4-49f6-de73-8c4502e97073"
   },
   "outputs": [
    {
     "name": "stdout",
     "output_type": "stream",
     "text": [
      "\u001b[1m1/1\u001b[0m \u001b[32m━━━━━━━━━━━━━━━━━━━━\u001b[0m\u001b[37m\u001b[0m \u001b[1m0s\u001b[0m 73ms/step\n",
      "\n",
      "XOR Results:\n",
      "Input: [0 0], True Output: 0, Predicted Output: 1\n",
      "Input: [0 1], True Output: 1, Predicted Output: 1\n",
      "Input: [1 0], True Output: 1, Predicted Output: 1\n",
      "Input: [1 1], True Output: 0, Predicted Output: 0\n",
      "\n",
      "Model Accuracy: 75.00%\n"
     ]
    }
   ],
   "source": [
    "import numpy as np\n",
    "from tensorflow.keras.models import Sequential\n",
    "from tensorflow.keras.layers import Dense\n",
    "from tensorflow.keras.optimizers import SGD\n",
    "\n",
    "X = np.array([\n",
    "    [0, 0],\n",
    "    [0, 1],\n",
    "    [1, 0],\n",
    "    [1, 1]\n",
    "])\n",
    "\n",
    "y = np.array([0, 1, 1, 0])  # XOR Output\n",
    "\n",
    "model_xor = Sequential([\n",
    "    Dense(8, input_dim=2, activation='relu'),\n",
    "    Dense(4, activation='relu'),\n",
    "    Dense(1, activation='sigmoid')\n",
    "])\n",
    "\n",
    "model_xor.compile(optimizer=SGD(learning_rate=0.1), loss='binary_crossentropy', metrics=['accuracy'])\n",
    "\n",
    "model_xor.fit(X, y, epochs=100, verbose=0)\n",
    "\n",
    "predictions_xor = model_xor.predict(X)\n",
    "predicted_classes_xor = (predictions_xor > 0.5).astype(int)\n",
    "\n",
    "accuracy = model_xor.evaluate(X, y, verbose=0)[1]\n",
    "\n",
    "print(\"\\nXOR Results:\")\n",
    "for i, input_val in enumerate(X):\n",
    "    print(f\"Input: {input_val}, True Output: {y[i]}, Predicted Output: {predicted_classes_xor[i][0]}\")\n",
    "\n",
    "print(f\"\\nModel Accuracy: {accuracy * 100:.2f}%\")"
   ]
  },
  {
   "cell_type": "code",
   "execution_count": null,
   "metadata": {
    "id": "IleDely9JKbT"
   },
   "outputs": [],
   "source": []
  },
  {
   "cell_type": "code",
   "execution_count": null,
   "metadata": {
    "id": "aQUKIXx9KSQs"
   },
   "outputs": [],
   "source": [
    "# learning rate = 0.1\n",
    "# epochs = 1000"
   ]
  },
  {
   "cell_type": "code",
   "execution_count": 98,
   "metadata": {
    "colab": {
     "base_uri": "https://localhost:8080/"
    },
    "executionInfo": {
     "elapsed": 55508,
     "status": "ok",
     "timestamp": 1740236903102,
     "user": {
      "displayName": "A_51_Prathmesh Urkude",
      "userId": "08303641571132646920"
     },
     "user_tz": -330
    },
    "id": "L_dUz1pXJKTz",
    "outputId": "339b2d97-e180-4a00-a8da-59ae1ccdda94"
   },
   "outputs": [
    {
     "name": "stdout",
     "output_type": "stream",
     "text": [
      "\u001b[1m1/1\u001b[0m \u001b[32m━━━━━━━━━━━━━━━━━━━━\u001b[0m\u001b[37m\u001b[0m \u001b[1m0s\u001b[0m 77ms/step\n",
      "\n",
      "XOR Results:\n",
      "Input: [0 0], True Output: 0, Predicted Output: 0\n",
      "Input: [0 1], True Output: 1, Predicted Output: 1\n",
      "Input: [1 0], True Output: 1, Predicted Output: 1\n",
      "Input: [1 1], True Output: 0, Predicted Output: 0\n",
      "\n",
      "Model Accuracy: 100.00%\n"
     ]
    }
   ],
   "source": [
    "import numpy as np\n",
    "from tensorflow.keras.models import Sequential\n",
    "from tensorflow.keras.layers import Dense\n",
    "from tensorflow.keras.optimizers import SGD\n",
    "\n",
    "X = np.array([\n",
    "    [0, 0],\n",
    "    [0, 1],\n",
    "    [1, 0],\n",
    "    [1, 1]\n",
    "])\n",
    "\n",
    "y = np.array([0, 1, 1, 0])  # XOR Output\n",
    "\n",
    "model_xor = Sequential([\n",
    "    Dense(8, input_dim=2, activation='relu'),\n",
    "    Dense(4, activation='relu'),\n",
    "    Dense(1, activation='sigmoid')\n",
    "])\n",
    "\n",
    "model_xor.compile(optimizer=SGD(learning_rate=0.1), loss='binary_crossentropy', metrics=['accuracy'])\n",
    "\n",
    "model_xor.fit(X, y, epochs=1000, verbose=0)\n",
    "\n",
    "predictions_xor = model_xor.predict(X)\n",
    "predicted_classes_xor = (predictions_xor > 0.5).astype(int)\n",
    "\n",
    "accuracy = model_xor.evaluate(X, y, verbose=0)[1]\n",
    "\n",
    "print(\"\\nXOR Results:\")\n",
    "for i, input_val in enumerate(X):\n",
    "    print(f\"Input: {input_val}, True Output: {y[i]}, Predicted Output: {predicted_classes_xor[i][0]}\")\n",
    "\n",
    "print(f\"\\nModel Accuracy: {accuracy * 100:.2f}%\")"
   ]
  },
  {
   "cell_type": "code",
   "execution_count": null,
   "metadata": {
    "id": "3YjKUQx4J8ZI"
   },
   "outputs": [],
   "source": []
  },
  {
   "cell_type": "code",
   "execution_count": null,
   "metadata": {
    "id": "KPMWzxUJKUMj"
   },
   "outputs": [],
   "source": [
    "# learning rate = 0.01\n",
    "# epochs = 500"
   ]
  },
  {
   "cell_type": "code",
   "execution_count": 101,
   "metadata": {
    "colab": {
     "base_uri": "https://localhost:8080/"
    },
    "executionInfo": {
     "elapsed": 39736,
     "status": "ok",
     "timestamp": 1740237097302,
     "user": {
      "displayName": "A_51_Prathmesh Urkude",
      "userId": "08303641571132646920"
     },
     "user_tz": -330
    },
    "id": "P75GXOvzJ8Mw",
    "outputId": "880a6f55-2362-4510-8f16-c30e927ee1e6"
   },
   "outputs": [
    {
     "name": "stdout",
     "output_type": "stream",
     "text": [
      "\u001b[1m1/1\u001b[0m \u001b[32m━━━━━━━━━━━━━━━━━━━━\u001b[0m\u001b[37m\u001b[0m \u001b[1m0s\u001b[0m 99ms/step\n",
      "\n",
      "XOR Results:\n",
      "Input: [0 0], True Output: 0, Predicted Output: 1\n",
      "Input: [0 1], True Output: 1, Predicted Output: 1\n",
      "Input: [1 0], True Output: 1, Predicted Output: 1\n",
      "Input: [1 1], True Output: 0, Predicted Output: 0\n",
      "\n",
      "Model Accuracy: 75.00%\n"
     ]
    }
   ],
   "source": [
    "import numpy as np\n",
    "from tensorflow.keras.models import Sequential\n",
    "from tensorflow.keras.layers import Dense\n",
    "from tensorflow.keras.optimizers import SGD\n",
    "\n",
    "X = np.array([\n",
    "    [0, 0],\n",
    "    [0, 1],\n",
    "    [1, 0],\n",
    "    [1, 1]\n",
    "])\n",
    "\n",
    "y = np.array([0, 1, 1, 0])  # XOR Output\n",
    "\n",
    "model_xor = Sequential([\n",
    "    Dense(8, input_dim=2, activation='relu'),\n",
    "    Dense(4, activation='relu'),\n",
    "    Dense(1, activation='sigmoid')\n",
    "])\n",
    "\n",
    "model_xor.compile(optimizer=SGD(learning_rate=0.01), loss='binary_crossentropy', metrics=['accuracy'])\n",
    "\n",
    "model_xor.fit(X, y, epochs=500, verbose=0)\n",
    "\n",
    "predictions_xor = model_xor.predict(X)\n",
    "predicted_classes_xor = (predictions_xor > 0.5).astype(int)\n",
    "\n",
    "accuracy = model_xor.evaluate(X, y, verbose=0)[1]\n",
    "\n",
    "print(\"\\nXOR Results:\")\n",
    "for i, input_val in enumerate(X):\n",
    "    print(f\"Input: {input_val}, True Output: {y[i]}, Predicted Output: {predicted_classes_xor[i][0]}\")\n",
    "\n",
    "print(f\"\\nModel Accuracy: {accuracy * 100:.2f}%\")"
   ]
  },
  {
   "cell_type": "code",
   "execution_count": null,
   "metadata": {
    "id": "i6gUiJfiNUEL"
   },
   "outputs": [],
   "source": []
  },
  {
   "cell_type": "code",
   "execution_count": 102,
   "metadata": {
    "executionInfo": {
     "elapsed": 1,
     "status": "ok",
     "timestamp": 1740237097323,
     "user": {
      "displayName": "A_51_Prathmesh Urkude",
      "userId": "08303641571132646920"
     },
     "user_tz": -330
    },
    "id": "DFzFa5wZNT6_"
   },
   "outputs": [],
   "source": [
    "# learning rate = 0.001\n",
    "# epochs = 500"
   ]
  },
  {
   "cell_type": "code",
   "execution_count": 103,
   "metadata": {
    "colab": {
     "base_uri": "https://localhost:8080/"
    },
    "executionInfo": {
     "elapsed": 32374,
     "status": "ok",
     "timestamp": 1740237129706,
     "user": {
      "displayName": "A_51_Prathmesh Urkude",
      "userId": "08303641571132646920"
     },
     "user_tz": -330
    },
    "id": "JxmwVC73KHKT",
    "outputId": "3ad65bcc-136b-4228-ae75-83514d7b827b"
   },
   "outputs": [
    {
     "name": "stdout",
     "output_type": "stream",
     "text": [
      "\u001b[1m1/1\u001b[0m \u001b[32m━━━━━━━━━━━━━━━━━━━━\u001b[0m\u001b[37m\u001b[0m \u001b[1m0s\u001b[0m 80ms/step\n",
      "\n",
      "XOR Results:\n",
      "Input: [0 0], True Output: 0, Predicted Output: 0\n",
      "Input: [0 1], True Output: 1, Predicted Output: 0\n",
      "Input: [1 0], True Output: 1, Predicted Output: 0\n",
      "Input: [1 1], True Output: 0, Predicted Output: 0\n",
      "\n",
      "Model Accuracy: 50.00%\n"
     ]
    }
   ],
   "source": [
    "import numpy as np\n",
    "from tensorflow.keras.models import Sequential\n",
    "from tensorflow.keras.layers import Dense\n",
    "from tensorflow.keras.optimizers import SGD\n",
    "\n",
    "X = np.array([\n",
    "    [0, 0],\n",
    "    [0, 1],\n",
    "    [1, 0],\n",
    "    [1, 1]\n",
    "])\n",
    "\n",
    "y = np.array([0, 1, 1, 0])  # XOR Output\n",
    "\n",
    "model_xor = Sequential([\n",
    "    Dense(8, input_dim=2, activation='relu'),\n",
    "    Dense(4, activation='relu'),\n",
    "    Dense(1, activation='sigmoid')\n",
    "])\n",
    "\n",
    "model_xor.compile(optimizer=SGD(learning_rate=0.001), loss='binary_crossentropy', metrics=['accuracy'])\n",
    "\n",
    "model_xor.fit(X, y, epochs=500, verbose=0)\n",
    "\n",
    "predictions_xor = model_xor.predict(X)\n",
    "predicted_classes_xor = (predictions_xor > 0.5).astype(int)\n",
    "\n",
    "accuracy = model_xor.evaluate(X, y, verbose=0)[1]\n",
    "\n",
    "print(\"\\nXOR Results:\")\n",
    "for i, input_val in enumerate(X):\n",
    "    print(f\"Input: {input_val}, True Output: {y[i]}, Predicted Output: {predicted_classes_xor[i][0]}\")\n",
    "\n",
    "print(f\"\\nModel Accuracy: {accuracy * 100:.2f}%\")"
   ]
  }
 ],
 "metadata": {
  "colab": {
   "authorship_tag": "ABX9TyPwPWkzwndV025q11/qIxo3",
   "provenance": []
  },
  "kernelspec": {
   "display_name": "Python 3",
   "name": "python3"
  },
  "language_info": {
   "name": "python"
  }
 },
 "nbformat": 4,
 "nbformat_minor": 0
}
